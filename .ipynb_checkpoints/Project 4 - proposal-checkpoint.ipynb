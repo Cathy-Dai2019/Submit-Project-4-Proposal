{
 "cells": [
  {
   "cell_type": "markdown",
   "metadata": {},
   "source": [
    "<img src=\"http://imgur.com/1ZcRyrc.png\" style=\"float: left; margin: 20px; height: 55px\">\n",
    "\n",
    "# Project 4: Final Project - Amazon Best Seller Rank Algorithm\n",
    "\n",
    "_Submitter: Cathy Dai (Data Science Course)_\n",
    "\n",
    "---\n",
    "\n"
   ]
  },
  {
   "cell_type": "markdown",
   "metadata": {},
   "source": [
    "## Final Project Proposal"
   ]
  },
  {
   "cell_type": "markdown",
   "metadata": {},
   "source": [
    "### Problem statement\n",
    "\n",
    "> We all know that Amazon is known for its disruption of well-established industries through technological innovation and mass scale.It is the world's largest e-commerce marketplace, AI assistant provider, and cloud computing platform as measured by revenue and market capitalization. Amazon is the largest Internet company by revenue in the world.It is the second largest private employer in the United States and one of the world's most valuable companies. Amazon is the second largest technology company by revenue.\n",
    "\n",
    "> Amazon.com's product lines available at its website include several media (books, DVDs, music CDs, videotapes and software), apparel, baby products, consumer electronics, beauty products, gourmet food, groceries, health and personal-care items, industrial & scientific supplies, kitchen items, jewelry, watches, lawn and garden items, musical instruments, sporting goods, tools, automotive items and toys & games. Amazon has separate retail websites for some countries and also offers international shipping of some of its products to certain other countries.\n",
    "\n",
    "> Many cases shown that people who wanted to find out the actual Amazon product ranking algorithm, wrote a software program to test out and study from a non-Prime Amazon member whose address was in Brooklyn, New York. For each product, the software scraped the main product listing page and the subsequent pages that contained the listings of other vendors offering the same product. For items that were listed without a shipping price, the software added them to the shopping cart and proceeded to checkout, where the shipping price was displayed. All of the items that lacked a shipping price were sold by Amazon or sellers in the “Fulfilled by Amazon” program. Once shipping prices collected for all vendors, then re-calculated the combined price plus shipping for each item and re-ranked the items as they would have been ranked if shipping was included for all items. The above claim was come from Propublica reporters.\n",
    "\n",
    "> In this project, I'm very interested to know how the Best Seller Ranking has been calculated? Based on the series of machine learning process to prepare a possible algorithm may explain the real suitation that happened within the internal company like Amazon. Perhaps, programers in Amazon may omit the shipping cost in order to have a good ranking among the all competitive situation. To underatnd Amazon's Best Seller Rank algorithm and logic, let's try to use machine learning to study the Amazon Baby department to get more insights on the BSR calculation and impact to the future demand forecast for vendors. Besides the BSR algorithm, what are the main contributors (product cost, number of customer review, review description from customer and various of vendors, customer rating) impact on BSR algorithm? I believe many of us are still keen to study what's happening behind the scene. \n"
   ]
  },
  {
   "cell_type": "markdown",
   "metadata": {},
   "source": [
    "### Hypothesis/Assumption"
   ]
  },
  {
   "cell_type": "markdown",
   "metadata": {},
   "source": [
    "> The dataset used for this project is from database Amazon product data.\n",
    "> The databasee consist of Baby department csv file, the content include: ReviewID, ProductID, Rating and ReviewTime. \n",
    "> Based on the dataset from Baby department, i will perform:\n",
    "- Data cleaning and formatting\n",
    "- Exploratory data analysis\n",
    "\n",
    "> Reference website:\n",
    "> http://jmcauley.ucsd.edu/data/amazon/index.html\n",
    "\n",
    "> After a series of understanding from the dataset, perform below:\n",
    "- Feature engineering and selection\n",
    "- Establish a baseline and compare several machine learning models on a performance metric\n",
    "\n",
    "> In this study, my scope will be using machine learning methodology to find the suitable and optimization for the problem mentioned in real. It may required us to links Python language by using Natural Language Processing (NLP ) analysis. Natural language processing (NLP) is an area of computer science and artificial intelligence concerned with the interactions between computers and human (natural) languages, in particular how to program computers to process and analyze large amounts of natural language data.\n",
    "\n"
   ]
  },
  {
   "cell_type": "markdown",
   "metadata": {},
   "source": [
    "### Success Matrix\n",
    "\n",
    "> Perform hyperparameter tuning on the best model to optimize it for the problem. Evaluate the best model on the testing set. \n",
    "\n",
    "> Buidling Best Seller Rank Model using Linear Regression Analysis/ K-nearest neighbors (KNN) algorithm"
   ]
  },
  {
   "cell_type": "markdown",
   "metadata": {},
   "source": [
    "### References:\n",
    "- https://www.machinelearningplus.com/time-series/time-series-analysis-python/\n",
    "- https://www.analyticsvidhya.com/blog/2016/02/time-series-forecasting-codes-python/\n",
    "- http://jmcauley.ucsd.edu/data/amazon/index.html\n",
    "- https://pandas.pydata.org/pandas-docs/stable/reference/api/pandas.to_datetime.html\n",
    "- https://blog.viral-launch.com/amazon-tips/amazon-best-sellers-rank-bsr-guide/\n",
    "- https://www.amazon.com/s/ref=nb_sb_noss?url=search-alias%3Dbaby-products-intl-ship&field-keywords="
   ]
  }
 ],
 "metadata": {
  "anaconda-cloud": {},
  "kernelspec": {
   "display_name": "Python 3",
   "language": "python",
   "name": "python3"
  },
  "language_info": {
   "codemirror_mode": {
    "name": "ipython",
    "version": 3
   },
   "file_extension": ".py",
   "mimetype": "text/x-python",
   "name": "python",
   "nbconvert_exporter": "python",
   "pygments_lexer": "ipython3",
   "version": "3.7.3"
  },
  "toc": {
   "base_numbering": 1,
   "nav_menu": {},
   "number_sections": true,
   "sideBar": true,
   "skip_h1_title": false,
   "title_cell": "Table of Contents",
   "title_sidebar": "Contents",
   "toc_cell": false,
   "toc_position": {},
   "toc_section_display": true,
   "toc_window_display": false
  },
  "varInspector": {
   "cols": {
    "lenName": 16,
    "lenType": 16,
    "lenVar": 40
   },
   "kernels_config": {
    "python": {
     "delete_cmd_postfix": "",
     "delete_cmd_prefix": "del ",
     "library": "var_list.py",
     "varRefreshCmd": "print(var_dic_list())"
    },
    "r": {
     "delete_cmd_postfix": ") ",
     "delete_cmd_prefix": "rm(",
     "library": "var_list.r",
     "varRefreshCmd": "cat(var_dic_list()) "
    }
   },
   "types_to_exclude": [
    "module",
    "function",
    "builtin_function_or_method",
    "instance",
    "_Feature"
   ],
   "window_display": false
  }
 },
 "nbformat": 4,
 "nbformat_minor": 2
}
